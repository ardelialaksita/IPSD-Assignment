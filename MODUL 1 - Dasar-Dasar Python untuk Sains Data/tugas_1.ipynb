{
  "nbformat": 4,
  "nbformat_minor": 0,
  "metadata": {
    "colab": {
      "provenance": []
    },
    "kernelspec": {
      "name": "python3",
      "display_name": "Python 3"
    },
    "language_info": {
      "name": "python"
    }
  },
  "cells": [
    {
      "cell_type": "markdown",
      "source": [
        "## **PRAKTIKUM INFRASTRUKTUR DAN PLATFORM UNTUK SAINS DATA**\n",
        "### **TUGAS 1**\n",
        "Nama : Ardelia Rachma Laksita\n",
        "\n",
        "NIM : 2311110051\n",
        "\n",
        "Kelas : SISD-04-01"
      ],
      "metadata": {
        "id": "nTWuutLR4uXw"
      }
    },
    {
      "cell_type": "markdown",
      "source": [
        "### Soal 1: Memecahkan Masalah Unik dengan Loop dan If-Else\n",
        "**Soal**: Buatlah program yang dapat menghasilkan pola berbentuk angka seperti di bawah ini, dengan syarat angka yang ditampilkan adalah hasil dari penjumlahan bilangan prima sebelumnya:\n",
        "```\n",
        "1\n",
        "2 3\n",
        "5 7 11\n",
        "13 17 19 23\n",
        "...\n",
        "```\n",
        "Jumlah angka pada setiap baris bertambah 1, dan bilangan yang ditampilkan adalah bilangan prima.\n"
      ],
      "metadata": {
        "id": "-185Ea7l5VFF"
      }
    },
    {
      "cell_type": "code",
      "execution_count": 45,
      "metadata": {
        "id": "SfYM4EV83V8J",
        "colab": {
          "base_uri": "https://localhost:8080/"
        },
        "outputId": "6bfa9660-25b3-4cd9-815a-747f89919619"
      },
      "outputs": [
        {
          "output_type": "stream",
          "name": "stdout",
          "text": [
            "2\n",
            "3 5\n",
            "7 11 13\n",
            "17 19 23 29\n",
            "31 37 41 43 47\n"
          ]
        }
      ],
      "source": [
        "def bil_prima(n):\n",
        "    if n <= 1:\n",
        "        return False\n",
        "    for i in range(2, int(n ** 0.5) + 1):\n",
        "        if n % i == 0:\n",
        "            return False\n",
        "    return True\n",
        "\n",
        "def pola_bilangan_prima(jumlah_bil_prima):\n",
        "    primes = []\n",
        "    num = 2\n",
        "    # kumpulkan bilangan prima sebanyak yang dibutuhkan\n",
        "    while len(primes) < jumlah_bil_prima:\n",
        "        if bil_prima(num):\n",
        "            primes.append(num)\n",
        "        num += 1\n",
        "\n",
        "    return primes\n",
        "\n",
        "def buat_pola(primes, n):\n",
        "    pola = []\n",
        "    index = 0\n",
        "    for i in range(1, n + 1):\n",
        "        row = []\n",
        "        for j in range(i):\n",
        "            row.append(primes[index])\n",
        "            index += 1\n",
        "        pola.append(row)\n",
        "    return pola\n",
        "\n",
        "def print_pola(pola):\n",
        "    for row in pola:\n",
        "        print(' '.join(str(x) for x in row))\n",
        "\n",
        "n = 5\n",
        "jumlah_bil_prima = n * (n + 1) // 2\n",
        "\n",
        "# dapatkan bilangan prima sebanyak jumlah_bil_prima\n",
        "primes = pola_bilangan_prima(jumlah_bil_prima)\n",
        "\n",
        "# buat pola dari bilangan prima yang didapatkan\n",
        "pola = buat_pola(primes, n)\n",
        "\n",
        "# tampilkan pola\n",
        "print_pola(pola)"
      ]
    },
    {
      "cell_type": "markdown",
      "source": [
        "### Soal 2: Membuat Fungsi dengan Syarat Spesifik\n",
        "**Soal**: Buatlah sebuah fungsi yang menerima dua input berupa list angka. Fungsi ini harus mengembalikan sebuah list baru yang berisi elemen dari dua list input yang memiliki indeks ganjil. List baru tersebut juga harus diurutkan secara menurun berdasarkan nilai elemen.\n",
        "\n"
      ],
      "metadata": {
        "id": "x4t8Bw69Iv76"
      }
    },
    {
      "cell_type": "code",
      "source": [
        "# program tanpa menggunakan input user\n",
        "def indeks_ganjil(list1, list2):\n",
        "    # ambil elemen dengan indeks ganjil dari kedua list\n",
        "    OddList1 = [list1[i] for i in range(1, len(list1), 2)]\n",
        "    OddList2 = [list2[i] for i in range(1, len(list2), 2)]\n",
        "\n",
        "    # merge kedua list yang memiliki nilai dari indeks ganjil\n",
        "    merge_list = OddList1 + OddList2\n",
        "\n",
        "    # urutkan list gabungan secara menurun\n",
        "    merge_list.sort(reverse=True)\n",
        "    return merge_list\n",
        "\n",
        "# isi list 1 dan 2\n",
        "list1 = [1, 2, 3, 4, 5, 6, 7, 8, 9, 10]\n",
        "list2 = [11, 12, 13, 14, 15, 16, 17, 18, 19, 20]\n",
        "\n",
        "# menampilkan hasil\n",
        "result = indeks_ganjil(list1, list2)\n",
        "print(f\"List elemen dengan indeks ganjil dan diurutkan secara menurun: {result}\")"
      ],
      "metadata": {
        "id": "0gU1D92qI7It",
        "colab": {
          "base_uri": "https://localhost:8080/"
        },
        "outputId": "ba8d94b5-f54a-44ad-f7fa-669c7e7fefcd"
      },
      "execution_count": 15,
      "outputs": [
        {
          "output_type": "stream",
          "name": "stdout",
          "text": [
            "List elemen dengan indeks ganjil dan diurutkan secara menurun: [20, 18, 16, 14, 12, 10, 8, 6, 4, 2]\n"
          ]
        }
      ]
    },
    {
      "cell_type": "code",
      "source": [
        "# program menggunakan input user\n",
        "def indeks_ganjil(list1, list2):\n",
        "    # ambil elemen dengan indeks ganjil dari kedua list\n",
        "    OddList1 = [list1[i] for i in range(1, len(list1), 2)]\n",
        "    OddList2 = [list2[i] for i in range(1, len(list2), 2)]\n",
        "\n",
        "    # merge kedua list yang memiliki nilai dari indeks ganjil\n",
        "    merge_list = OddList1 + OddList2\n",
        "\n",
        "    # urutkan list gabungan secara menurun\n",
        "    merge_list.sort(reverse=True)\n",
        "    return merge_list\n",
        "\n",
        "input_list1 = input(\"Masukkan list pertama (misal: 1,2,3): \")\n",
        "input_list2 = input(\"Masukkan list kedua (misal:3,4,5): \")\n",
        "\n",
        "# Mengonversi input menjadi list angka\n",
        "list1 = [int(x) for x in input_list1.split(',')]\n",
        "list2 = [int(x) for x in input_list2.split(',')]\n",
        "\n",
        "# Memanggil fungsi dan menampilkan hasil\n",
        "result = indeks_ganjil(list1, list2)\n",
        "print(f\"List elemen dengan indeks ganjil dan diurutkan secara menurun: {result}\")"
      ],
      "metadata": {
        "colab": {
          "base_uri": "https://localhost:8080/"
        },
        "id": "fUkj6LpJW-bD",
        "outputId": "b0bde74c-f94f-4274-a655-d6dcfabef270"
      },
      "execution_count": 18,
      "outputs": [
        {
          "output_type": "stream",
          "name": "stdout",
          "text": [
            "Masukkan list pertama (misal: 1,2,3): 21,22,23\n",
            "Masukkan list kedua (misal:3,4,5): 24,25,26\n",
            "List elemen dengan indeks ganjil dan diurutkan secara menurun: [25, 22]\n"
          ]
        }
      ]
    },
    {
      "cell_type": "markdown",
      "source": [
        "### Soal 3: Exception Handling dalam Konteks Nyata\n",
        "**Soal**: Buat sebuah program untuk mensimulasikan transaksi ATM. Program harus:\n",
        "1. Meminta pengguna memasukkan PIN (dibatasi 3 kali percobaan).\n",
        "2. Setelah PIN benar, meminta jumlah penarikan.\n",
        "3. Jika saldo kurang dari jumlah yang ditarik, munculkan pesan kesalahan.\n",
        "4. Jika penarikan berhasil, tampilkan saldo akhir.\n"
      ],
      "metadata": {
        "id": "tJEvF88iI0nY"
      }
    },
    {
      "cell_type": "code",
      "source": [
        "class ATM:\n",
        "    def __init__(self, saldo_awal):\n",
        "        self.saldo_awal = saldo_awal\n",
        "        self.try_pin = 0\n",
        "\n",
        "    def autentikasi(self):\n",
        "        # authenticate function\n",
        "        while self.try_pin < 3:\n",
        "            pin = input(\"Masukkan PIN Anda: \")\n",
        "            if pin == \"8888\":\n",
        "                return True\n",
        "            else:\n",
        "                self.try_pin += 1\n",
        "                print(\"PIN yang Anda masukkan tidak valid. Silakan coba lagi.\")\n",
        "        print(\"Jumlah percobaan PIN sudah mencapai batas maksimum. Transaksi dibatalkan. Silakan login kembali\")\n",
        "        return False\n",
        "\n",
        "    def withdraw(self):\n",
        "        # tarik uang dengan syarat autentikasi pin harus benar\n",
        "        if not self.autentikasi():\n",
        "            return\n",
        "        # input jumlah penarikan setelah pin benar\n",
        "        try:\n",
        "            amount = int(input(\"Masukkan jumlah penarikan: \"))\n",
        "        except ValueError:\n",
        "            print(\"Jumlah yang dimasukkan tidak valid. Harap masukkan angka.\")\n",
        "            return\n",
        "\n",
        "        # memeriksa apakah saldo cukup untuk penarikan\n",
        "        # tampilan apabila saldo kurang dari jumlah yang ditarik\n",
        "        if amount > self.saldo_awal:\n",
        "            print(\"Saldo Anda tidak cukup. Transaksi dibatalkan.\")\n",
        "        # tampilan apabila saldo tidak melebihi jumlah yang ditarik\n",
        "        else:\n",
        "            self.saldo_awal -= amount\n",
        "            print(f\"Penarikan berhasil. Saldo Anda yang tersisa: {self.saldo_awal}\")\n",
        "\n",
        "# membuat saldo awal ATM dan menyimpannya dalam atm\n",
        "atm = ATM(50000)\n",
        "\n",
        "# transaksi\n",
        "atm.withdraw()\n"
      ],
      "metadata": {
        "id": "us73x_AnI72w",
        "colab": {
          "base_uri": "https://localhost:8080/"
        },
        "outputId": "cfb27d33-510e-4fd5-8945-92f211139ccf"
      },
      "execution_count": 23,
      "outputs": [
        {
          "output_type": "stream",
          "name": "stdout",
          "text": [
            "Masukkan PIN Anda: 1234\n",
            "PIN yang Anda masukkan tidak valid. Silakan coba lagi.\n",
            "Masukkan PIN Anda: 8888\n",
            "Masukkan jumlah penarikan: 15000\n",
            "Penarikan berhasil. Saldo Anda yang tersisa: 35000\n"
          ]
        }
      ]
    },
    {
      "cell_type": "markdown",
      "source": [
        "### Soal 4: Studi Kasus Pengelolaan Data\n",
        "**Soal**: Anda diberikan file CSV berisi data nilai ujian mahasiswa. Tugas Anda adalah menulis sebuah program yang:\n",
        "1. Membaca file CSV dan menyimpan datanya ke dalam dictionary.\n",
        "2. Menghitung rata-rata nilai tiap mahasiswa.\n",
        "3. Menampilkan mahasiswa dengan nilai tertinggi dan terendah.\n"
      ],
      "metadata": {
        "id": "esao6m6oI5QR"
      }
    },
    {
      "cell_type": "code",
      "source": [
        "import pandas as pd\n",
        "\n",
        "# nama file CSV\n",
        "csv_name = '/content/siswa_nilai (1).csv'\n",
        "\n",
        "#  read file CSV dan menyimpan datanya ke dalam dictionary\n",
        "def read_CSVfile(csv_name):\n",
        "    nilai_siswa = pd.read_csv(csv_name)\n",
        "    data_dict = nilai_siswa.set_index('Nama Siswa').T.to_dict('list')\n",
        "    return data_dict\n",
        "\n",
        "# count / hitung rata-rata mahasiswa\n",
        "def count_mean(data_dict):\n",
        "    rata_rata_mahasiswa = {}\n",
        "    for nama, nilai in data_dict.items():\n",
        "        rata_rata_mahasiswa[nama] = sum(nilai) / len(nilai)\n",
        "    return rata_rata_mahasiswa\n",
        "\n",
        "# cari mahasiswa dengan nilai rata-rata tertinggi dan terendah\n",
        "def high_low_value(rata_rata_mahasiswa):\n",
        "    high_value = max(rata_rata_mahasiswa, key=rata_rata_mahasiswa.get)\n",
        "    low_value = min(rata_rata_mahasiswa, key=rata_rata_mahasiswa.get)\n",
        "    # tampilkan\n",
        "    print(f\"Mahasiswa yang memiliki nilai tertinggi: {high_value} dengan rata-rata nilai {rata_rata_mahasiswa[high_value]:.2f}\")\n",
        "    print(f\"Mahasiswa yang memiliki nilai terendah: {low_value} dengan rata-rata nilai {rata_rata_mahasiswa[low_value]:.2f}\")\n",
        "\n",
        "# baca data dari file CSV\n",
        "data_dict = read_CSVfile(csv_name)\n",
        "\n",
        "# hitung rata-rata nilai mahasiswa\n",
        "rata_rata_mahasiswa = count_mean(data_dict)\n",
        "\n",
        "# cari mahasiswa dengan nilai rata-rata tertinggi dan terendah\n",
        "high_low_value(rata_rata_mahasiswa)"
      ],
      "metadata": {
        "colab": {
          "base_uri": "https://localhost:8080/"
        },
        "id": "SstmZ2HCJBHN",
        "outputId": "e5ea13d0-d9df-45be-9b7f-57948e626fc4"
      },
      "execution_count": 42,
      "outputs": [
        {
          "output_type": "stream",
          "name": "stdout",
          "text": [
            "Mahasiswa yang memiliki nilai tertinggi: Siswa_7 dengan rata-rata nilai 100.00\n",
            "Mahasiswa yang memiliki nilai terendah: Siswa_5 dengan rata-rata nilai 50.00\n"
          ]
        }
      ]
    },
    {
      "cell_type": "markdown",
      "source": [
        "### Soal 5: Kombinasi Logika dan Kreativitas\n",
        "**Soal**: Buatlah permainan sederhana menggunakan Python, di mana komputer akan memilih sebuah angka secara acak antara 1 hingga 100, dan pengguna harus menebak angka tersebut. Setiap tebakan yang salah akan memberikan petunjuk apakah angka yang ditebak lebih besar atau lebih kecil dari angka sebenarnya. Batasi jumlah percobaan menjadi 5 kali. Setelah permainan selesai, tampilkan apakah pemain menang atau kalah.\n"
      ],
      "metadata": {
        "id": "qP_YT46xCgOn"
      }
    },
    {
      "cell_type": "code",
      "source": [
        "import random\n",
        "\n",
        "def permainan():\n",
        "    # create random number antara 1 hingga 100\n",
        "    secret_number = random.randint(1, 100)\n",
        "\n",
        "    # inisialisasi angka yang dimasukkan\n",
        "    attempts = 0\n",
        "\n",
        "    # bermain\n",
        "    while attempts < 5:\n",
        "        # dapatkan tebakan dari user\n",
        "        guess = int(input(\"Tebaklah sebuah angka pada rentang 1 hingga 100: \"))\n",
        "\n",
        "        # melakukan pengecekan apakah benar atau salah\n",
        "        if guess == secret_number:\n",
        "            print(\"Selamat! Anda berhasil memenangkan permainan!\")\n",
        "            return\n",
        "\n",
        "        # tampilan apabila tebakan angkanya salah\n",
        "        elif guess < secret_number:\n",
        "            print(\"Terlalu rendah! Silakan coba lagi.\")\n",
        "        else:\n",
        "            print(\"Terlalu tinggi! Silakan coba lagi.\")\n",
        "\n",
        "        # meningkatkan attempts angka\n",
        "        attempts += 1\n",
        "\n",
        "    # tebakan angka salah sehingga program memberi tahu angkanya\n",
        "    print(\"Sorry, you lost! The secret number was\", secret_number)\n",
        "\n",
        "# panggil program menggunakan variabel permainan\n",
        "permainan()"
      ],
      "metadata": {
        "id": "OXjgg0-7usq7",
        "colab": {
          "base_uri": "https://localhost:8080/"
        },
        "outputId": "86399a71-6176-4246-8265-0a83400b6623"
      },
      "execution_count": 40,
      "outputs": [
        {
          "output_type": "stream",
          "name": "stdout",
          "text": [
            "Tebaklah sebuah angka pada rentang 1 hingga 100: 55\n",
            "Terlalu rendah! Silakan coba lagi.\n",
            "Tebaklah sebuah angka pada rentang 1 hingga 100: 10\n",
            "Terlalu rendah! Silakan coba lagi.\n",
            "Tebaklah sebuah angka pada rentang 1 hingga 100: 88\n",
            "Terlalu tinggi! Silakan coba lagi.\n",
            "Tebaklah sebuah angka pada rentang 1 hingga 100: 68\n",
            "Terlalu rendah! Silakan coba lagi.\n",
            "Tebaklah sebuah angka pada rentang 1 hingga 100: 77\n",
            "Terlalu rendah! Silakan coba lagi.\n",
            "Sorry, you lost! The secret number was 85\n"
          ]
        }
      ]
    },
    {
      "cell_type": "markdown",
      "source": [
        "### Soal 6: Rekursi yang Tidak Biasa\n",
        "**Soal**: Buat fungsi rekursif yang menerima input bilangan bulat `n` dan menghasilkan urutan bilangan seperti berikut ini:\n",
        "```\n",
        "Input: n = 4\n",
        "Output: 1, 1, 2, 6, 24\n",
        "```\n",
        "Fungsi ini harus menggunakan konsep rekursi untuk menghitung faktorial setiap angka hingga `n`.\n"
      ],
      "metadata": {
        "id": "cbvLNHHsCltn"
      }
    },
    {
      "cell_type": "code",
      "source": [
        "# faktorial\n",
        "def faktorial(n):\n",
        "  if n == 0 or n == 1:\n",
        "    return 1\n",
        "  else:\n",
        "    return n * faktorial(n-1)\n",
        "\n",
        "# recursive function untuk mengurutkan dan menambahkan (append) faktorial dari n\n",
        "def rekursif(n):\n",
        "  if n == 0:\n",
        "    return [1] # mengembalikan value 1 apabila n = 0\n",
        "  else:\n",
        "    urutan = rekursif(n-1)\n",
        "    urutan.append(faktorial(n)) # menambahkan elemen baru ke urutan\n",
        "    return urutan # mengembalikan value urutan\n",
        "\n",
        "n = 4 # memasukkan nilai n\n",
        "urutan = rekursif(n) # menyimpan rekursif(n) ke dalam urutan\n",
        "print(urutan) # mencetak output dengan cara memanggil urutan\n",
        "print()\n",
        "\n",
        "# menampilkan input dan output\n",
        "print(f\"Input: n = {n}\")\n",
        "print(f\"Output: {urutan}\")"
      ],
      "metadata": {
        "id": "_r6NuWA-Cs6M",
        "colab": {
          "base_uri": "https://localhost:8080/"
        },
        "outputId": "949b41a8-d6bf-4230-d7e1-48a529526bae"
      },
      "execution_count": 13,
      "outputs": [
        {
          "output_type": "stream",
          "name": "stdout",
          "text": [
            "[1, 1, 2, 6, 24]\n",
            "\n",
            "Input: n = 4\n",
            "Output: [1, 1, 2, 6, 24]\n"
          ]
        }
      ]
    },
    {
      "cell_type": "markdown",
      "source": [
        "### Soal 7: Pemrograman dengan Algoritma Greedy\n",
        "**Soal**: Buatlah program untuk memecahkan masalah \"minimum coin change\". Diberikan jumlah uang dan daftar nilai koin yang tersedia (misalnya, 1, 5, 10, 25), tentukan kombinasi minimum koin yang diperlukan untuk mencapai jumlah uang tersebut. Namun, program Anda harus bisa menangani koin-koin yang nilai dan jumlahnya ditentukan pengguna.\n"
      ],
      "metadata": {
        "id": "875sFQfhCtXc"
      }
    },
    {
      "cell_type": "code",
      "source": [
        "def minimum_coin(amount, coins):\n",
        "    # tabel untuk menyimpan angka minimum dari koin for each amount\n",
        "    dp = [float('inf')] * (amount + 1)\n",
        "    dp[0] = 0  # base case: 0 coins needed for amount 0\n",
        "\n",
        "    for coin in coins:\n",
        "        for i in range(coin, amount + 1):\n",
        "            dp[i] = min(dp[i], dp[i - coin] + 1)\n",
        "\n",
        "    # rekonstruksi kombinasi minimum dari koin\n",
        "    coins_used = []\n",
        "    i = amount\n",
        "    while i > 0:\n",
        "        for coin in coins:\n",
        "            if dp[i] == dp[i - coin] + 1:\n",
        "                coins_used.append(coin)\n",
        "                i -= coin\n",
        "                break\n",
        "\n",
        "    return coins_used\n",
        "\n",
        "# contoh:\n",
        "amount = int(input(\"Enter the amount: \"))\n",
        "coins = list(map(int, input(\"Enter the coin values (space-separated): \").split()))\n",
        "result = minimum_coin(amount, coins)\n",
        "print(\"Minimum coin combination:\", result)"
      ],
      "metadata": {
        "id": "2jVQmdbZCxpD",
        "colab": {
          "base_uri": "https://localhost:8080/"
        },
        "outputId": "bcec799b-d47b-4bd6-f8fb-d1da4dce19ce"
      },
      "execution_count": 41,
      "outputs": [
        {
          "output_type": "stream",
          "name": "stdout",
          "text": [
            "Enter the amount: 100\n",
            "Enter the coin values (space-separated): 10\n",
            "Minimum coin combination: [10, 10, 10, 10, 10, 10, 10, 10, 10, 10]\n"
          ]
        }
      ]
    },
    {
      "cell_type": "markdown",
      "source": [
        "### Soal 8: Kombinasi String dan Manipulasi List\n",
        "**Soal**: Buat sebuah program yang menerima string dari pengguna dan mengonversi string tersebut menjadi sebuah list berisi kata-kata terbalik. Misalnya:\n",
        "```\n",
        "Input: \"Saya suka Python\"\n",
        "Output: [\"ayaS\", \"akus\", \"nohtyP\"]\n",
        "```\n"
      ],
      "metadata": {
        "id": "UqYb38ZLCyBv"
      }
    },
    {
      "cell_type": "code",
      "source": [
        "# program konversi string yang diinput oleh penggunauntuk dijadikan list berisi kata-kata terbalik\n",
        "def reverse_words(words):\n",
        "  kata = words.split()\n",
        "  reversed_words = [word[::-1] for word in kata]\n",
        "  return reversed_words\n",
        "\n",
        "# program meminta user untuk memasukkan kalimat\n",
        "sentence = input(\"Masukan kalimat: \")\n",
        "# memanggil funsi reverse_words yang disimpan dalam 'result'\n",
        "result = reverse_words(sentence)\n",
        "# menampilkan atau mencetak 'result' yang berisi konversi string dengan kata-kata terbalik\n",
        "print(result)"
      ],
      "metadata": {
        "id": "k-AjntEvC6QJ",
        "colab": {
          "base_uri": "https://localhost:8080/"
        },
        "outputId": "94d95575-f054-4c92-8222-019a0462ca02"
      },
      "execution_count": 6,
      "outputs": [
        {
          "output_type": "stream",
          "name": "stdout",
          "text": [
            "Masukan kalimat: Saya suka Python\n",
            "['ayaS', 'akus', 'nohtyP']\n"
          ]
        }
      ]
    },
    {
      "cell_type": "markdown",
      "source": [
        "### Soal 9: Konsep Class dan Object-Oriented Programming\n",
        "**Soal**: Buat class bernama `Buku` yang memiliki atribut `judul`, `penulis`, dan `tahun_terbit`. Buat method dalam class untuk menampilkan informasi buku, serta method untuk menghitung usia buku berdasarkan tahun saat ini. Buatlah 3 objek dari class `Buku` dan tampilkan informasi serta usia masing-masing buku.\n"
      ],
      "metadata": {
        "id": "iMThDNJGC6rw"
      }
    },
    {
      "cell_type": "code",
      "source": [
        "from datetime import datetime\n",
        "\n",
        "class Buku:\n",
        "    # inisialisasi self, judul, penulis, dan tahun_terbit\n",
        "    def __init__(self, judul, penulis, tahun_terbit):\n",
        "        self.judul = judul\n",
        "        self.penulis = penulis\n",
        "        self.tahun_terbit = tahun_terbit\n",
        "\n",
        "    # menampilkan book's information yang berisi judul, penulis, dan tahun terbit\n",
        "    def information(self):\n",
        "        print(f\"Judul: {self.judul}\")\n",
        "        print(f\"Penulis: {self.penulis}\")\n",
        "        print(f\"Tahun Terbit: {self.tahun_terbit}\")\n",
        "\n",
        "    # menampilkan book's age based on tahun terbitnya\n",
        "    def usia_buku(self):\n",
        "        recent_year = datetime.now().year\n",
        "        age = recent_year - self.tahun_terbit\n",
        "        return age\n",
        "\n",
        "# objek 3 buku yang berisi identitas berupa judul, penulis, dan tahun terbit\n",
        "book1 = Buku(\"Autumn in Paris\", \"Ilana Tan\", 2007)\n",
        "book2 = Buku(\"Teluk Alaska\", \"Eka Aryani\", 2019)\n",
        "book3 = Buku(\"The Alpha Girl's Guide\", \"Henry Manampiring\", 2020)\n",
        "\n",
        "# menampilkan each book's information dan age\n",
        "print(\"INFORMASI IDENTITAS DAN USIA BUKU\")\n",
        "print(\"=================================\")\n",
        "for book in [book1, book2, book3]:\n",
        "    book.information()\n",
        "    print(f\"Usia Buku: {book.usia_buku()} tahun\\n\")\n",
        "print(\"=================================\")"
      ],
      "metadata": {
        "id": "QxD4MCiNC--V",
        "colab": {
          "base_uri": "https://localhost:8080/"
        },
        "outputId": "893d9cd0-c368-4be6-8cad-f6a1edae523f"
      },
      "execution_count": 7,
      "outputs": [
        {
          "output_type": "stream",
          "name": "stdout",
          "text": [
            "INFORMASI IDENTITAS DAN USIA BUKU\n",
            "=================================\n",
            "Judul: Autumn in Paris\n",
            "Penulis: Ilana Tan\n",
            "Tahun Terbit: 2007\n",
            "Usia Buku: 17 tahun\n",
            "\n",
            "Judul: Teluk Alaska\n",
            "Penulis: Eka Aryani\n",
            "Tahun Terbit: 2019\n",
            "Usia Buku: 5 tahun\n",
            "\n",
            "Judul: The Alpha Girl's Guide\n",
            "Penulis: Henry Manampiring\n",
            "Tahun Terbit: 2020\n",
            "Usia Buku: 4 tahun\n",
            "\n",
            "=================================\n"
          ]
        }
      ]
    },
    {
      "cell_type": "markdown",
      "source": [
        "### Soal 10: Algoritma dengan Persyaratan Logika Khusus\n",
        "**Soal**: Buatlah program yang mengimplementasikan algoritma pencarian biner, namun dengan modifikasi: algoritma harus bisa mencari nilai di list yang hanya berisi angka genap, dan jika nilai yang dicari adalah angka ganjil, program harus menampilkan pesan bahwa nilai tersebut tidak bisa ditemukan.\n"
      ],
      "metadata": {
        "id": "DpatzNlyC-gA"
      }
    },
    {
      "cell_type": "code",
      "source": [
        "# binary search dengan modifikasi dimana program juga bisa mencari indeks nilai tersebut (terdapat list bilangan genap)\n",
        "def BinarySearch(EvenNum, number):\n",
        "\n",
        "  # apabila angka yang dimasukkan oleh user merupakan angka ganjil\n",
        "  if number % 2 != 0:\n",
        "    return f\"Nilai {number} merupakan angka ganjil sehingga tidak bisa ditemukan.\"\n",
        "\n",
        "  # inisialisasi indeks awal dan indeks akhir\n",
        "  indeks_awal, indeks_akhir = 0, len(EvenNum) - 1\n",
        "\n",
        "  # binary search (apabila nilai yang dicari merupakan angka genap, program akan mencari indeks nilai tersebut)\n",
        "  while indeks_awal <= indeks_akhir:\n",
        "    mid_index = (indeks_awal + indeks_akhir) // 2\n",
        "    mid = EvenNum[mid_index]\n",
        "\n",
        "    # apabila angka genap yang dicari ditemukan pada list, maka program akan menampilkan indeksnya\n",
        "    if mid == number:\n",
        "      return f\"Nilai {number} merupakan angka genap dan ditemukan pada indeks {mid_index}.\"\n",
        "    elif mid < number:\n",
        "      indeks_awal = mid_index + 1\n",
        "    else:\n",
        "      indeks_akhir = mid_index - 1\n",
        "\n",
        "  # apabila angka genap yang dicari tidak ditemukan pada list\n",
        "  return f\"Nilai {number} tidak ditemukan pada list.\"\n",
        "\n",
        "# list angka genap\n",
        "EvenNum = [2, 4, 6, 8, 10, 12, 14, 16, 18, 20, 22, 24, 26, 28, 30, 32, 34, 36, 38, 40, 42, 44, 46, 48, 50]\n",
        "\n",
        "# meminta user untuk memasukkan angka yang ingin dicari\n",
        "number = int(input(\"Angka berapa yang ingin Anda cari? : \"))\n",
        "print(BinarySearch(EvenNum, number))"
      ],
      "metadata": {
        "colab": {
          "base_uri": "https://localhost:8080/"
        },
        "id": "Ie__H_nFDFc0",
        "outputId": "da788cd0-c914-412c-dede-e89dab106659"
      },
      "execution_count": null,
      "outputs": [
        {
          "output_type": "stream",
          "name": "stdout",
          "text": [
            "Masukkan angka yang ingin Anda cari: 20\n",
            "Nilai 20 merupakan angka genap dan ditemukan pada indeks 9.\n"
          ]
        }
      ]
    },
    {
      "cell_type": "code",
      "source": [
        "# binary search dengan modifikasi dimana program tidak bisa mencari indeks nilai tersebut (tidak terdapat list bilangan genap, hanya ada range yaitu 2 - 1001)\n",
        "def BinarySearch(EvenNum, number):\n",
        "    # apabila angka yang dimasukkan oleh user merupakan angka ganjil\n",
        "    if number % 2 != 0:\n",
        "        return f\"Nilai {number} merupakan angka ganjil sehingga tidak bisa ditemukan.\"\n",
        "\n",
        "    # inisialisasi indeks awal dan indeks akhir\n",
        "    indeks_awal, indeks_akhir = 0, len(EvenNum) - 1\n",
        "\n",
        "    # binary search (apabila nilai yang dicari merupakan angka genap, program akan mencari nilai tersebut)\n",
        "    while indeks_awal <= indeks_akhir:\n",
        "        mid_index = (indeks_awal + indeks_akhir) // 2\n",
        "        mid = EvenNum[mid_index]\n",
        "\n",
        "        # apabila angka genap yang dicari ditemukan pada list\n",
        "        if mid == number:\n",
        "            return f\"Nilai {number} merupakan angka genap dan ditemukan pada list.\"\n",
        "        elif mid < number:\n",
        "            indeks_awal = mid_index + 1\n",
        "        else:\n",
        "            indeks_akhir = mid_index - 1\n",
        "\n",
        "    # apabila angka genap yang dicari tidak ditemukan pada list\n",
        "    return f\"Nilai {number} tidak ditemukan pada list.\"\n",
        "\n",
        "# Membuat list angka genap dari 2 hingga 1000\n",
        "EvenNum = [x for x in range(2, 1001) if x % 2 == 0]\n",
        "\n",
        "# Meminta user untuk memasukkan angka yang ingin dicari\n",
        "number = int(input(\"Angka berapa yang ingin Anda cari? : \"))\n",
        "print(BinarySearch(EvenNum, number))"
      ],
      "metadata": {
        "colab": {
          "base_uri": "https://localhost:8080/"
        },
        "id": "x2qY5lbBFYSu",
        "outputId": "785cabad-5876-45d2-e6c1-9ee2a7f85d5c"
      },
      "execution_count": 14,
      "outputs": [
        {
          "output_type": "stream",
          "name": "stdout",
          "text": [
            "Angka berapa yang ingin Anda cari? : 888\n",
            "Nilai 888 merupakan angka genap dan ditemukan pada list.\n"
          ]
        }
      ]
    }
  ]
}