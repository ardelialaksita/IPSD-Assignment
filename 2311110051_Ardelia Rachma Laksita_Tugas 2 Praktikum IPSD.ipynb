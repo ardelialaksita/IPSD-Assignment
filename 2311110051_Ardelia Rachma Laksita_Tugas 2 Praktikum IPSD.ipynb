{
  "nbformat": 4,
  "nbformat_minor": 0,
  "metadata": {
    "colab": {
      "provenance": []
    },
    "kernelspec": {
      "name": "python3",
      "display_name": "Python 3"
    },
    "language_info": {
      "name": "python"
    }
  },
  "cells": [
    {
      "cell_type": "markdown",
      "source": [
        "## **PRAKTIKUM INFRASTRUKTUR DAN PLATFORM UNTUK SAINS DATA**\n",
        "### **TUGAS 2**\n",
        "Nama : Ardelia Rachma Laksita\n",
        "\n",
        "NIM : 2311110051\n",
        "\n",
        "Kelas : SISD-04-01"
      ],
      "metadata": {
        "id": "GRc9cgDOauA5"
      }
    },
    {
      "cell_type": "markdown",
      "source": [
        "# **IMPORT LIBRARY**"
      ],
      "metadata": {
        "id": "V4mtY_5s5CYE"
      }
    },
    {
      "cell_type": "code",
      "execution_count": 41,
      "metadata": {
        "id": "UtxsSfqgZmCH"
      },
      "outputs": [],
      "source": [
        "import pandas as pd\n",
        "import numpy as np\n",
        "from sklearn.impute import SimpleImputer\n",
        "import seaborn as sns\n",
        "import matplotlib.pyplot as plt\n",
        "from imblearn.under_sampling import RandomUnderSampler\n",
        "from collections import Counter\n",
        "from imblearn.under_sampling import RandomUnderSampler\n",
        "from sklearn.datasets import make_classification\n",
        "from sklearn.model_selection import train_test_split\n",
        "import collections\n",
        "from sklearn.preprocessing import RobustScaler, MinMaxScaler"
      ]
    },
    {
      "cell_type": "markdown",
      "source": [
        "# **LOAD DATA**"
      ],
      "metadata": {
        "id": "N8zU1Gsz5Lhr"
      }
    },
    {
      "cell_type": "code",
      "source": [
        "# read csv\n",
        "data = pd.read_csv('/content/diabetes.csv')\n",
        "# panggil 'data' untuk ditampilkan dataframenya\n",
        "data"
      ],
      "metadata": {
        "id": "rlZC85LBaDEx",
        "colab": {
          "base_uri": "https://localhost:8080/",
          "height": 424
        },
        "outputId": "9e074f9e-92fe-4d70-8af4-64c06ea97e81"
      },
      "execution_count": 42,
      "outputs": [
        {
          "output_type": "execute_result",
          "data": {
            "text/plain": [
              "     Pregnancies  Glucose  BloodPressure  SkinThickness  Insulin   BMI  \\\n",
              "0            6.0      NaN           72.0           35.0      0.0   NaN   \n",
              "1            1.0     85.0           66.0           29.0      0.0   NaN   \n",
              "2            8.0    183.0           64.0            0.0      0.0  23.3   \n",
              "3            1.0     89.0           66.0           23.0     94.0  28.1   \n",
              "4            0.0      NaN           40.0           35.0    168.0  43.1   \n",
              "..           ...      ...            ...            ...      ...   ...   \n",
              "763         10.0    101.0           76.0           48.0    180.0  32.9   \n",
              "764          2.0    122.0           70.0           27.0      0.0  36.8   \n",
              "765          5.0    121.0           72.0           23.0      NaN  26.2   \n",
              "766          1.0    126.0           60.0            0.0      0.0  30.1   \n",
              "767          1.0     93.0            NaN           31.0      0.0  30.4   \n",
              "\n",
              "     DiabetesPedigreeFunction   Age  Outcome  \n",
              "0                      627.00   NaN        1  \n",
              "1                      351.00  31.0        0  \n",
              "2                      672.00  32.0        1  \n",
              "3                      167.00  21.0        0  \n",
              "4                         NaN  33.0        1  \n",
              "..                        ...   ...      ...  \n",
              "763                    171.00   NaN        0  \n",
              "764                      0.34  27.0        0  \n",
              "765                    245.00  30.0        0  \n",
              "766                       NaN  47.0        1  \n",
              "767                    315.00  23.0        0  \n",
              "\n",
              "[768 rows x 9 columns]"
            ],
            "text/html": [
              "\n",
              "  <div id=\"df-50dca662-0794-4aab-b423-722e6586cf81\" class=\"colab-df-container\">\n",
              "    <div>\n",
              "<style scoped>\n",
              "    .dataframe tbody tr th:only-of-type {\n",
              "        vertical-align: middle;\n",
              "    }\n",
              "\n",
              "    .dataframe tbody tr th {\n",
              "        vertical-align: top;\n",
              "    }\n",
              "\n",
              "    .dataframe thead th {\n",
              "        text-align: right;\n",
              "    }\n",
              "</style>\n",
              "<table border=\"1\" class=\"dataframe\">\n",
              "  <thead>\n",
              "    <tr style=\"text-align: right;\">\n",
              "      <th></th>\n",
              "      <th>Pregnancies</th>\n",
              "      <th>Glucose</th>\n",
              "      <th>BloodPressure</th>\n",
              "      <th>SkinThickness</th>\n",
              "      <th>Insulin</th>\n",
              "      <th>BMI</th>\n",
              "      <th>DiabetesPedigreeFunction</th>\n",
              "      <th>Age</th>\n",
              "      <th>Outcome</th>\n",
              "    </tr>\n",
              "  </thead>\n",
              "  <tbody>\n",
              "    <tr>\n",
              "      <th>0</th>\n",
              "      <td>6.0</td>\n",
              "      <td>NaN</td>\n",
              "      <td>72.0</td>\n",
              "      <td>35.0</td>\n",
              "      <td>0.0</td>\n",
              "      <td>NaN</td>\n",
              "      <td>627.00</td>\n",
              "      <td>NaN</td>\n",
              "      <td>1</td>\n",
              "    </tr>\n",
              "    <tr>\n",
              "      <th>1</th>\n",
              "      <td>1.0</td>\n",
              "      <td>85.0</td>\n",
              "      <td>66.0</td>\n",
              "      <td>29.0</td>\n",
              "      <td>0.0</td>\n",
              "      <td>NaN</td>\n",
              "      <td>351.00</td>\n",
              "      <td>31.0</td>\n",
              "      <td>0</td>\n",
              "    </tr>\n",
              "    <tr>\n",
              "      <th>2</th>\n",
              "      <td>8.0</td>\n",
              "      <td>183.0</td>\n",
              "      <td>64.0</td>\n",
              "      <td>0.0</td>\n",
              "      <td>0.0</td>\n",
              "      <td>23.3</td>\n",
              "      <td>672.00</td>\n",
              "      <td>32.0</td>\n",
              "      <td>1</td>\n",
              "    </tr>\n",
              "    <tr>\n",
              "      <th>3</th>\n",
              "      <td>1.0</td>\n",
              "      <td>89.0</td>\n",
              "      <td>66.0</td>\n",
              "      <td>23.0</td>\n",
              "      <td>94.0</td>\n",
              "      <td>28.1</td>\n",
              "      <td>167.00</td>\n",
              "      <td>21.0</td>\n",
              "      <td>0</td>\n",
              "    </tr>\n",
              "    <tr>\n",
              "      <th>4</th>\n",
              "      <td>0.0</td>\n",
              "      <td>NaN</td>\n",
              "      <td>40.0</td>\n",
              "      <td>35.0</td>\n",
              "      <td>168.0</td>\n",
              "      <td>43.1</td>\n",
              "      <td>NaN</td>\n",
              "      <td>33.0</td>\n",
              "      <td>1</td>\n",
              "    </tr>\n",
              "    <tr>\n",
              "      <th>...</th>\n",
              "      <td>...</td>\n",
              "      <td>...</td>\n",
              "      <td>...</td>\n",
              "      <td>...</td>\n",
              "      <td>...</td>\n",
              "      <td>...</td>\n",
              "      <td>...</td>\n",
              "      <td>...</td>\n",
              "      <td>...</td>\n",
              "    </tr>\n",
              "    <tr>\n",
              "      <th>763</th>\n",
              "      <td>10.0</td>\n",
              "      <td>101.0</td>\n",
              "      <td>76.0</td>\n",
              "      <td>48.0</td>\n",
              "      <td>180.0</td>\n",
              "      <td>32.9</td>\n",
              "      <td>171.00</td>\n",
              "      <td>NaN</td>\n",
              "      <td>0</td>\n",
              "    </tr>\n",
              "    <tr>\n",
              "      <th>764</th>\n",
              "      <td>2.0</td>\n",
              "      <td>122.0</td>\n",
              "      <td>70.0</td>\n",
              "      <td>27.0</td>\n",
              "      <td>0.0</td>\n",
              "      <td>36.8</td>\n",
              "      <td>0.34</td>\n",
              "      <td>27.0</td>\n",
              "      <td>0</td>\n",
              "    </tr>\n",
              "    <tr>\n",
              "      <th>765</th>\n",
              "      <td>5.0</td>\n",
              "      <td>121.0</td>\n",
              "      <td>72.0</td>\n",
              "      <td>23.0</td>\n",
              "      <td>NaN</td>\n",
              "      <td>26.2</td>\n",
              "      <td>245.00</td>\n",
              "      <td>30.0</td>\n",
              "      <td>0</td>\n",
              "    </tr>\n",
              "    <tr>\n",
              "      <th>766</th>\n",
              "      <td>1.0</td>\n",
              "      <td>126.0</td>\n",
              "      <td>60.0</td>\n",
              "      <td>0.0</td>\n",
              "      <td>0.0</td>\n",
              "      <td>30.1</td>\n",
              "      <td>NaN</td>\n",
              "      <td>47.0</td>\n",
              "      <td>1</td>\n",
              "    </tr>\n",
              "    <tr>\n",
              "      <th>767</th>\n",
              "      <td>1.0</td>\n",
              "      <td>93.0</td>\n",
              "      <td>NaN</td>\n",
              "      <td>31.0</td>\n",
              "      <td>0.0</td>\n",
              "      <td>30.4</td>\n",
              "      <td>315.00</td>\n",
              "      <td>23.0</td>\n",
              "      <td>0</td>\n",
              "    </tr>\n",
              "  </tbody>\n",
              "</table>\n",
              "<p>768 rows × 9 columns</p>\n",
              "</div>\n",
              "    <div class=\"colab-df-buttons\">\n",
              "\n",
              "  <div class=\"colab-df-container\">\n",
              "    <button class=\"colab-df-convert\" onclick=\"convertToInteractive('df-50dca662-0794-4aab-b423-722e6586cf81')\"\n",
              "            title=\"Convert this dataframe to an interactive table.\"\n",
              "            style=\"display:none;\">\n",
              "\n",
              "  <svg xmlns=\"http://www.w3.org/2000/svg\" height=\"24px\" viewBox=\"0 -960 960 960\">\n",
              "    <path d=\"M120-120v-720h720v720H120Zm60-500h600v-160H180v160Zm220 220h160v-160H400v160Zm0 220h160v-160H400v160ZM180-400h160v-160H180v160Zm440 0h160v-160H620v160ZM180-180h160v-160H180v160Zm440 0h160v-160H620v160Z\"/>\n",
              "  </svg>\n",
              "    </button>\n",
              "\n",
              "  <style>\n",
              "    .colab-df-container {\n",
              "      display:flex;\n",
              "      gap: 12px;\n",
              "    }\n",
              "\n",
              "    .colab-df-convert {\n",
              "      background-color: #E8F0FE;\n",
              "      border: none;\n",
              "      border-radius: 50%;\n",
              "      cursor: pointer;\n",
              "      display: none;\n",
              "      fill: #1967D2;\n",
              "      height: 32px;\n",
              "      padding: 0 0 0 0;\n",
              "      width: 32px;\n",
              "    }\n",
              "\n",
              "    .colab-df-convert:hover {\n",
              "      background-color: #E2EBFA;\n",
              "      box-shadow: 0px 1px 2px rgba(60, 64, 67, 0.3), 0px 1px 3px 1px rgba(60, 64, 67, 0.15);\n",
              "      fill: #174EA6;\n",
              "    }\n",
              "\n",
              "    .colab-df-buttons div {\n",
              "      margin-bottom: 4px;\n",
              "    }\n",
              "\n",
              "    [theme=dark] .colab-df-convert {\n",
              "      background-color: #3B4455;\n",
              "      fill: #D2E3FC;\n",
              "    }\n",
              "\n",
              "    [theme=dark] .colab-df-convert:hover {\n",
              "      background-color: #434B5C;\n",
              "      box-shadow: 0px 1px 3px 1px rgba(0, 0, 0, 0.15);\n",
              "      filter: drop-shadow(0px 1px 2px rgba(0, 0, 0, 0.3));\n",
              "      fill: #FFFFFF;\n",
              "    }\n",
              "  </style>\n",
              "\n",
              "    <script>\n",
              "      const buttonEl =\n",
              "        document.querySelector('#df-50dca662-0794-4aab-b423-722e6586cf81 button.colab-df-convert');\n",
              "      buttonEl.style.display =\n",
              "        google.colab.kernel.accessAllowed ? 'block' : 'none';\n",
              "\n",
              "      async function convertToInteractive(key) {\n",
              "        const element = document.querySelector('#df-50dca662-0794-4aab-b423-722e6586cf81');\n",
              "        const dataTable =\n",
              "          await google.colab.kernel.invokeFunction('convertToInteractive',\n",
              "                                                    [key], {});\n",
              "        if (!dataTable) return;\n",
              "\n",
              "        const docLinkHtml = 'Like what you see? Visit the ' +\n",
              "          '<a target=\"_blank\" href=https://colab.research.google.com/notebooks/data_table.ipynb>data table notebook</a>'\n",
              "          + ' to learn more about interactive tables.';\n",
              "        element.innerHTML = '';\n",
              "        dataTable['output_type'] = 'display_data';\n",
              "        await google.colab.output.renderOutput(dataTable, element);\n",
              "        const docLink = document.createElement('div');\n",
              "        docLink.innerHTML = docLinkHtml;\n",
              "        element.appendChild(docLink);\n",
              "      }\n",
              "    </script>\n",
              "  </div>\n",
              "\n",
              "\n",
              "<div id=\"df-5f531334-4873-4976-8b7c-342bd09999c5\">\n",
              "  <button class=\"colab-df-quickchart\" onclick=\"quickchart('df-5f531334-4873-4976-8b7c-342bd09999c5')\"\n",
              "            title=\"Suggest charts\"\n",
              "            style=\"display:none;\">\n",
              "\n",
              "<svg xmlns=\"http://www.w3.org/2000/svg\" height=\"24px\"viewBox=\"0 0 24 24\"\n",
              "     width=\"24px\">\n",
              "    <g>\n",
              "        <path d=\"M19 3H5c-1.1 0-2 .9-2 2v14c0 1.1.9 2 2 2h14c1.1 0 2-.9 2-2V5c0-1.1-.9-2-2-2zM9 17H7v-7h2v7zm4 0h-2V7h2v10zm4 0h-2v-4h2v4z\"/>\n",
              "    </g>\n",
              "</svg>\n",
              "  </button>\n",
              "\n",
              "<style>\n",
              "  .colab-df-quickchart {\n",
              "      --bg-color: #E8F0FE;\n",
              "      --fill-color: #1967D2;\n",
              "      --hover-bg-color: #E2EBFA;\n",
              "      --hover-fill-color: #174EA6;\n",
              "      --disabled-fill-color: #AAA;\n",
              "      --disabled-bg-color: #DDD;\n",
              "  }\n",
              "\n",
              "  [theme=dark] .colab-df-quickchart {\n",
              "      --bg-color: #3B4455;\n",
              "      --fill-color: #D2E3FC;\n",
              "      --hover-bg-color: #434B5C;\n",
              "      --hover-fill-color: #FFFFFF;\n",
              "      --disabled-bg-color: #3B4455;\n",
              "      --disabled-fill-color: #666;\n",
              "  }\n",
              "\n",
              "  .colab-df-quickchart {\n",
              "    background-color: var(--bg-color);\n",
              "    border: none;\n",
              "    border-radius: 50%;\n",
              "    cursor: pointer;\n",
              "    display: none;\n",
              "    fill: var(--fill-color);\n",
              "    height: 32px;\n",
              "    padding: 0;\n",
              "    width: 32px;\n",
              "  }\n",
              "\n",
              "  .colab-df-quickchart:hover {\n",
              "    background-color: var(--hover-bg-color);\n",
              "    box-shadow: 0 1px 2px rgba(60, 64, 67, 0.3), 0 1px 3px 1px rgba(60, 64, 67, 0.15);\n",
              "    fill: var(--button-hover-fill-color);\n",
              "  }\n",
              "\n",
              "  .colab-df-quickchart-complete:disabled,\n",
              "  .colab-df-quickchart-complete:disabled:hover {\n",
              "    background-color: var(--disabled-bg-color);\n",
              "    fill: var(--disabled-fill-color);\n",
              "    box-shadow: none;\n",
              "  }\n",
              "\n",
              "  .colab-df-spinner {\n",
              "    border: 2px solid var(--fill-color);\n",
              "    border-color: transparent;\n",
              "    border-bottom-color: var(--fill-color);\n",
              "    animation:\n",
              "      spin 1s steps(1) infinite;\n",
              "  }\n",
              "\n",
              "  @keyframes spin {\n",
              "    0% {\n",
              "      border-color: transparent;\n",
              "      border-bottom-color: var(--fill-color);\n",
              "      border-left-color: var(--fill-color);\n",
              "    }\n",
              "    20% {\n",
              "      border-color: transparent;\n",
              "      border-left-color: var(--fill-color);\n",
              "      border-top-color: var(--fill-color);\n",
              "    }\n",
              "    30% {\n",
              "      border-color: transparent;\n",
              "      border-left-color: var(--fill-color);\n",
              "      border-top-color: var(--fill-color);\n",
              "      border-right-color: var(--fill-color);\n",
              "    }\n",
              "    40% {\n",
              "      border-color: transparent;\n",
              "      border-right-color: var(--fill-color);\n",
              "      border-top-color: var(--fill-color);\n",
              "    }\n",
              "    60% {\n",
              "      border-color: transparent;\n",
              "      border-right-color: var(--fill-color);\n",
              "    }\n",
              "    80% {\n",
              "      border-color: transparent;\n",
              "      border-right-color: var(--fill-color);\n",
              "      border-bottom-color: var(--fill-color);\n",
              "    }\n",
              "    90% {\n",
              "      border-color: transparent;\n",
              "      border-bottom-color: var(--fill-color);\n",
              "    }\n",
              "  }\n",
              "</style>\n",
              "\n",
              "  <script>\n",
              "    async function quickchart(key) {\n",
              "      const quickchartButtonEl =\n",
              "        document.querySelector('#' + key + ' button');\n",
              "      quickchartButtonEl.disabled = true;  // To prevent multiple clicks.\n",
              "      quickchartButtonEl.classList.add('colab-df-spinner');\n",
              "      try {\n",
              "        const charts = await google.colab.kernel.invokeFunction(\n",
              "            'suggestCharts', [key], {});\n",
              "      } catch (error) {\n",
              "        console.error('Error during call to suggestCharts:', error);\n",
              "      }\n",
              "      quickchartButtonEl.classList.remove('colab-df-spinner');\n",
              "      quickchartButtonEl.classList.add('colab-df-quickchart-complete');\n",
              "    }\n",
              "    (() => {\n",
              "      let quickchartButtonEl =\n",
              "        document.querySelector('#df-5f531334-4873-4976-8b7c-342bd09999c5 button');\n",
              "      quickchartButtonEl.style.display =\n",
              "        google.colab.kernel.accessAllowed ? 'block' : 'none';\n",
              "    })();\n",
              "  </script>\n",
              "</div>\n",
              "\n",
              "  <div id=\"id_9350bedc-f4b8-40ae-9dea-4bc4ef06810d\">\n",
              "    <style>\n",
              "      .colab-df-generate {\n",
              "        background-color: #E8F0FE;\n",
              "        border: none;\n",
              "        border-radius: 50%;\n",
              "        cursor: pointer;\n",
              "        display: none;\n",
              "        fill: #1967D2;\n",
              "        height: 32px;\n",
              "        padding: 0 0 0 0;\n",
              "        width: 32px;\n",
              "      }\n",
              "\n",
              "      .colab-df-generate:hover {\n",
              "        background-color: #E2EBFA;\n",
              "        box-shadow: 0px 1px 2px rgba(60, 64, 67, 0.3), 0px 1px 3px 1px rgba(60, 64, 67, 0.15);\n",
              "        fill: #174EA6;\n",
              "      }\n",
              "\n",
              "      [theme=dark] .colab-df-generate {\n",
              "        background-color: #3B4455;\n",
              "        fill: #D2E3FC;\n",
              "      }\n",
              "\n",
              "      [theme=dark] .colab-df-generate:hover {\n",
              "        background-color: #434B5C;\n",
              "        box-shadow: 0px 1px 3px 1px rgba(0, 0, 0, 0.15);\n",
              "        filter: drop-shadow(0px 1px 2px rgba(0, 0, 0, 0.3));\n",
              "        fill: #FFFFFF;\n",
              "      }\n",
              "    </style>\n",
              "    <button class=\"colab-df-generate\" onclick=\"generateWithVariable('data')\"\n",
              "            title=\"Generate code using this dataframe.\"\n",
              "            style=\"display:none;\">\n",
              "\n",
              "  <svg xmlns=\"http://www.w3.org/2000/svg\" height=\"24px\"viewBox=\"0 0 24 24\"\n",
              "       width=\"24px\">\n",
              "    <path d=\"M7,19H8.4L18.45,9,17,7.55,7,17.6ZM5,21V16.75L18.45,3.32a2,2,0,0,1,2.83,0l1.4,1.43a1.91,1.91,0,0,1,.58,1.4,1.91,1.91,0,0,1-.58,1.4L9.25,21ZM18.45,9,17,7.55Zm-12,3A5.31,5.31,0,0,0,4.9,8.1,5.31,5.31,0,0,0,1,6.5,5.31,5.31,0,0,0,4.9,4.9,5.31,5.31,0,0,0,6.5,1,5.31,5.31,0,0,0,8.1,4.9,5.31,5.31,0,0,0,12,6.5,5.46,5.46,0,0,0,6.5,12Z\"/>\n",
              "  </svg>\n",
              "    </button>\n",
              "    <script>\n",
              "      (() => {\n",
              "      const buttonEl =\n",
              "        document.querySelector('#id_9350bedc-f4b8-40ae-9dea-4bc4ef06810d button.colab-df-generate');\n",
              "      buttonEl.style.display =\n",
              "        google.colab.kernel.accessAllowed ? 'block' : 'none';\n",
              "\n",
              "      buttonEl.onclick = () => {\n",
              "        google.colab.notebook.generateWithVariable('data');\n",
              "      }\n",
              "      })();\n",
              "    </script>\n",
              "  </div>\n",
              "\n",
              "    </div>\n",
              "  </div>\n"
            ],
            "application/vnd.google.colaboratory.intrinsic+json": {
              "type": "dataframe",
              "variable_name": "data",
              "summary": "{\n  \"name\": \"data\",\n  \"rows\": 768,\n  \"fields\": [\n    {\n      \"column\": \"Pregnancies\",\n      \"properties\": {\n        \"dtype\": \"number\",\n        \"std\": 3.333891184260596,\n        \"min\": 0.0,\n        \"max\": 17.0,\n        \"num_unique_values\": 17,\n        \"samples\": [\n          6.0,\n          1.0,\n          3.0\n        ],\n        \"semantic_type\": \"\",\n        \"description\": \"\"\n      }\n    },\n    {\n      \"column\": \"Glucose\",\n      \"properties\": {\n        \"dtype\": \"number\",\n        \"std\": 31.94133644026979,\n        \"min\": 0.0,\n        \"max\": 199.0,\n        \"num_unique_values\": 135,\n        \"samples\": [\n          104.0,\n          76.0,\n          167.0\n        ],\n        \"semantic_type\": \"\",\n        \"description\": \"\"\n      }\n    },\n    {\n      \"column\": \"BloodPressure\",\n      \"properties\": {\n        \"dtype\": \"number\",\n        \"std\": 19.768892386121365,\n        \"min\": 0.0,\n        \"max\": 114.0,\n        \"num_unique_values\": 44,\n        \"samples\": [\n          102.0,\n          85.0,\n          86.0\n        ],\n        \"semantic_type\": \"\",\n        \"description\": \"\"\n      }\n    },\n    {\n      \"column\": \"SkinThickness\",\n      \"properties\": {\n        \"dtype\": \"number\",\n        \"std\": 15.84528211821394,\n        \"min\": 0.0,\n        \"max\": 99.0,\n        \"num_unique_values\": 51,\n        \"samples\": [\n          7.0,\n          12.0,\n          48.0\n        ],\n        \"semantic_type\": \"\",\n        \"description\": \"\"\n      }\n    },\n    {\n      \"column\": \"Insulin\",\n      \"properties\": {\n        \"dtype\": \"number\",\n        \"std\": 107.62927913469045,\n        \"min\": 0.0,\n        \"max\": 680.0,\n        \"num_unique_values\": 160,\n        \"samples\": [\n          465.0,\n          84.0,\n          272.0\n        ],\n        \"semantic_type\": \"\",\n        \"description\": \"\"\n      }\n    },\n    {\n      \"column\": \"BMI\",\n      \"properties\": {\n        \"dtype\": \"number\",\n        \"std\": 7.945932109070489,\n        \"min\": 0.0,\n        \"max\": 67.1,\n        \"num_unique_values\": 220,\n        \"samples\": [\n          26.0,\n          39.9,\n          27.6\n        ],\n        \"semantic_type\": \"\",\n        \"description\": \"\"\n      }\n    },\n    {\n      \"column\": \"DiabetesPedigreeFunction\",\n      \"properties\": {\n        \"dtype\": \"number\",\n        \"std\": 254.78353920794657,\n        \"min\": 0.1,\n        \"max\": 997.0,\n        \"num_unique_values\": 483,\n        \"samples\": [\n          115.0,\n          488.0,\n          652.0\n        ],\n        \"semantic_type\": \"\",\n        \"description\": \"\"\n      }\n    },\n    {\n      \"column\": \"Age\",\n      \"properties\": {\n        \"dtype\": \"number\",\n        \"std\": 11.825888553891348,\n        \"min\": 21.0,\n        \"max\": 81.0,\n        \"num_unique_values\": 52,\n        \"samples\": [\n          28.0,\n          49.0,\n          72.0\n        ],\n        \"semantic_type\": \"\",\n        \"description\": \"\"\n      }\n    },\n    {\n      \"column\": \"Outcome\",\n      \"properties\": {\n        \"dtype\": \"number\",\n        \"std\": 0,\n        \"min\": 0,\n        \"max\": 1,\n        \"num_unique_values\": 2,\n        \"samples\": [\n          0,\n          1\n        ],\n        \"semantic_type\": \"\",\n        \"description\": \"\"\n      }\n    }\n  ]\n}"
            }
          },
          "metadata": {},
          "execution_count": 42
        }
      ]
    },
    {
      "cell_type": "markdown",
      "source": [
        "# **SOAL 1: IMPUTASI MISSING VALUE DENGAN MEAN, MEDIAN, DAN MODUS**"
      ],
      "metadata": {
        "id": "AA7Hi2Dg_O7K"
      }
    },
    {
      "cell_type": "markdown",
      "source": [
        "# **MISSING VALUE**"
      ],
      "metadata": {
        "id": "1ZKWZj9p5bEO"
      }
    },
    {
      "cell_type": "code",
      "source": [
        "# cek missing value (nilai yang hilang)\n",
        "data.isna().sum()"
      ],
      "metadata": {
        "colab": {
          "base_uri": "https://localhost:8080/",
          "height": 366
        },
        "id": "iXYA2zT-aI7k",
        "outputId": "b2093635-580b-4281-e807-46a05866c8a5"
      },
      "execution_count": 43,
      "outputs": [
        {
          "output_type": "execute_result",
          "data": {
            "text/plain": [
              "Pregnancies                  77\n",
              "Glucose                     115\n",
              "BloodPressure               154\n",
              "SkinThickness                38\n",
              "Insulin                     192\n",
              "BMI                         230\n",
              "DiabetesPedigreeFunction     77\n",
              "Age                         154\n",
              "Outcome                       0\n",
              "dtype: int64"
            ],
            "text/html": [
              "<div>\n",
              "<style scoped>\n",
              "    .dataframe tbody tr th:only-of-type {\n",
              "        vertical-align: middle;\n",
              "    }\n",
              "\n",
              "    .dataframe tbody tr th {\n",
              "        vertical-align: top;\n",
              "    }\n",
              "\n",
              "    .dataframe thead th {\n",
              "        text-align: right;\n",
              "    }\n",
              "</style>\n",
              "<table border=\"1\" class=\"dataframe\">\n",
              "  <thead>\n",
              "    <tr style=\"text-align: right;\">\n",
              "      <th></th>\n",
              "      <th>0</th>\n",
              "    </tr>\n",
              "  </thead>\n",
              "  <tbody>\n",
              "    <tr>\n",
              "      <th>Pregnancies</th>\n",
              "      <td>77</td>\n",
              "    </tr>\n",
              "    <tr>\n",
              "      <th>Glucose</th>\n",
              "      <td>115</td>\n",
              "    </tr>\n",
              "    <tr>\n",
              "      <th>BloodPressure</th>\n",
              "      <td>154</td>\n",
              "    </tr>\n",
              "    <tr>\n",
              "      <th>SkinThickness</th>\n",
              "      <td>38</td>\n",
              "    </tr>\n",
              "    <tr>\n",
              "      <th>Insulin</th>\n",
              "      <td>192</td>\n",
              "    </tr>\n",
              "    <tr>\n",
              "      <th>BMI</th>\n",
              "      <td>230</td>\n",
              "    </tr>\n",
              "    <tr>\n",
              "      <th>DiabetesPedigreeFunction</th>\n",
              "      <td>77</td>\n",
              "    </tr>\n",
              "    <tr>\n",
              "      <th>Age</th>\n",
              "      <td>154</td>\n",
              "    </tr>\n",
              "    <tr>\n",
              "      <th>Outcome</th>\n",
              "      <td>0</td>\n",
              "    </tr>\n",
              "  </tbody>\n",
              "</table>\n",
              "</div><br><label><b>dtype:</b> int64</label>"
            ]
          },
          "metadata": {},
          "execution_count": 43
        }
      ]
    },
    {
      "cell_type": "code",
      "source": [
        "# cek missing value (nilai yang hilang) dan disimpan dalam variabel missing_values\n",
        "missing_values = data.isna().sum()\n",
        "\n",
        "# hitung jumlah nilai yang hilang per kolom\n",
        "missing_per_column = missing_values.sum()\n",
        "\n",
        "# hitung total nilai yang hilang dalam seluruh DataFrame\n",
        "total_missing = missing_values.sum().sum()\n",
        "\n",
        "print(\"Jumlah nilai yang hilang per kolom:\")\n",
        "print(missing_per_column)\n",
        "print(f\"Total nilai yang hilang dalam dataset: {total_missing}\")"
      ],
      "metadata": {
        "colab": {
          "base_uri": "https://localhost:8080/"
        },
        "id": "VY3subgBclrO",
        "outputId": "c213e9d1-29b8-4655-810e-7096c4a916c9"
      },
      "execution_count": 44,
      "outputs": [
        {
          "output_type": "stream",
          "name": "stdout",
          "text": [
            "Jumlah nilai yang hilang per kolom:\n",
            "1037\n",
            "Total nilai yang hilang dalam dataset: 1037\n"
          ]
        }
      ]
    },
    {
      "cell_type": "markdown",
      "source": [
        "Berdasarkan output tersebut, diperoleh total nilai yang hilang dalam dataset yaitu sebanyak 1037."
      ],
      "metadata": {
        "id": "1Q9l8QZw5nUm"
      }
    },
    {
      "cell_type": "markdown",
      "source": [
        "## **Imputasi mean, median, dan modus pada semua variabel**"
      ],
      "metadata": {
        "id": "zK9cPL4J9Bj6"
      }
    },
    {
      "cell_type": "markdown",
      "source": [
        "Imputasi mean, median, dan modus dilakukan untuk seluruh klom engan memilih salah satu nilai yang ingin diimputasikan, yaitu antara nilai mean, median, atau modus."
      ],
      "metadata": {
        "id": "EwdCarYD9GkI"
      }
    },
    {
      "cell_type": "markdown",
      "source": [
        "### (1) Mean Imputation"
      ],
      "metadata": {
        "id": "_B3wW6CG99Bm"
      }
    },
    {
      "cell_type": "code",
      "source": [
        "# mean imputation\n",
        "mean_impute_columns = ['Pregnancies', 'Glucose', 'BloodPressure', 'SkinThickness', 'Insulin', 'BMI', 'DiabetesPedigreeFunction', 'Age']\n",
        "imputer_mean = SimpleImputer(strategy='mean')\n",
        "data[mean_impute_columns] = imputer_mean.fit_transform(data[mean_impute_columns])\n",
        "# cek missing values setelah imputasi\n",
        "print(\"Missing values after mean imputation:\\n\", data.isnull().sum())"
      ],
      "metadata": {
        "colab": {
          "base_uri": "https://localhost:8080/"
        },
        "id": "qJPuAUus9igc",
        "outputId": "c829db5a-b3fe-4706-e0a2-348637e4fe74"
      },
      "execution_count": 45,
      "outputs": [
        {
          "output_type": "stream",
          "name": "stdout",
          "text": [
            "Missing values after mean imputation:\n",
            " Pregnancies                 0\n",
            "Glucose                     0\n",
            "BloodPressure               0\n",
            "SkinThickness               0\n",
            "Insulin                     0\n",
            "BMI                         0\n",
            "DiabetesPedigreeFunction    0\n",
            "Age                         0\n",
            "Outcome                     0\n",
            "dtype: int64\n"
          ]
        }
      ]
    },
    {
      "cell_type": "markdown",
      "source": [
        "Output di atas menunjukkan bahwa semua missing values telah berhasil diisi menggunakan nilai mean."
      ],
      "metadata": {
        "id": "v_Ovf0gL9w60"
      }
    },
    {
      "cell_type": "markdown",
      "source": [
        "### (2) Median Imputation"
      ],
      "metadata": {
        "id": "Rtld9wWy-F7V"
      }
    },
    {
      "cell_type": "code",
      "source": [
        "# median imputation\n",
        "median_impute_columns = ['Pregnancies', 'Glucose', 'BloodPressure', 'SkinThickness', 'Insulin', 'BMI', 'DiabetesPedigreeFunction', 'Age']\n",
        "imputer_median = SimpleImputer(strategy='mean')\n",
        "data[median_impute_columns] = imputer_median.fit_transform(data[median_impute_columns])\n",
        "# cek missing values setelah imputasi\n",
        "print(\"Missing values after median imputation:\\n\", data.isnull().sum())"
      ],
      "metadata": {
        "colab": {
          "base_uri": "https://localhost:8080/"
        },
        "id": "6EhYJUPf934R",
        "outputId": "c37d7bad-1abd-465e-9b7c-4ad423a1f042"
      },
      "execution_count": 46,
      "outputs": [
        {
          "output_type": "stream",
          "name": "stdout",
          "text": [
            "Missing values after median imputation:\n",
            " Pregnancies                 0\n",
            "Glucose                     0\n",
            "BloodPressure               0\n",
            "SkinThickness               0\n",
            "Insulin                     0\n",
            "BMI                         0\n",
            "DiabetesPedigreeFunction    0\n",
            "Age                         0\n",
            "Outcome                     0\n",
            "dtype: int64\n"
          ]
        }
      ]
    },
    {
      "cell_type": "markdown",
      "source": [
        "Output di atas menunjukkan bahwa semua missing values telah berhasil diisi menggunakan nilai median."
      ],
      "metadata": {
        "id": "IfuT5W82-hdg"
      }
    },
    {
      "cell_type": "markdown",
      "source": [
        "### (3) Mode Imputation"
      ],
      "metadata": {
        "id": "66waY0cj-K57"
      }
    },
    {
      "cell_type": "code",
      "source": [
        "# mode imputation\n",
        "mode_impute_columns = ['Pregnancies', 'Glucose', 'BloodPressure', 'SkinThickness', 'Insulin', 'BMI', 'DiabetesPedigreeFunction', 'Age']\n",
        "imputer_mode = SimpleImputer(strategy='mean')\n",
        "data[mode_impute_columns] = imputer_mode.fit_transform(data[mode_impute_columns])\n",
        "# cek missing values setelah imputasi\n",
        "print(\"Missing values after mode imputation:\\n\", data.isnull().sum())"
      ],
      "metadata": {
        "colab": {
          "base_uri": "https://localhost:8080/"
        },
        "id": "GJflv92g-OuO",
        "outputId": "87be8867-b967-46ec-aad0-6a0e149c7df7"
      },
      "execution_count": 47,
      "outputs": [
        {
          "output_type": "stream",
          "name": "stdout",
          "text": [
            "Missing values after mode imputation:\n",
            " Pregnancies                 0\n",
            "Glucose                     0\n",
            "BloodPressure               0\n",
            "SkinThickness               0\n",
            "Insulin                     0\n",
            "BMI                         0\n",
            "DiabetesPedigreeFunction    0\n",
            "Age                         0\n",
            "Outcome                     0\n",
            "dtype: int64\n"
          ]
        }
      ]
    },
    {
      "cell_type": "markdown",
      "source": [
        "Output di atas menunjukkan bahwa semua missing values telah berhasil diisi menggunakan nilai modus."
      ],
      "metadata": {
        "id": "ekdjuU7u-kPX"
      }
    },
    {
      "cell_type": "markdown",
      "source": [
        "## **Imputasi mean, median, dan modus pada variabel atau kolom tertentu**"
      ],
      "metadata": {
        "id": "ZutRaMGo8TDU"
      }
    },
    {
      "cell_type": "markdown",
      "source": [
        "Selain imputasi pada semua variabel, kita juga bisa memilih variabel tertentu untuk dipilih imputasinya sehingga nilai mean, median, dan modus masuk semua pada missing valuenya (dengan menyesuaikan variabel yang dipilih). Imputasi mean, median, dan modus pada variabel atau kolom tertentu artinya imputasi yang dilakukan hanya untuk kolom-kolom yang dipilih saja."
      ],
      "metadata": {
        "id": "v1QaZDII82DG"
      }
    },
    {
      "cell_type": "markdown",
      "source": [
        "## **Mean Imputation**"
      ],
      "metadata": {
        "id": "rEcYzw9E7A8K"
      }
    },
    {
      "cell_type": "markdown",
      "source": [
        "Imputasi dilakukan pada kolom 'BMI', 'Insulin', 'BloodPressure', dan 'Age' menggunakan nilai mean."
      ],
      "metadata": {
        "id": "EOOroGQt8d2e"
      }
    },
    {
      "cell_type": "code",
      "source": [
        "# imputasi missing values dengan mean\n",
        "mean_impute_columns = ['BMI', 'Insulin', 'BloodPressure', 'Age']\n",
        "imputer_mean = SimpleImputer(strategy='mean')\n",
        "data[mean_impute_columns] = imputer_mean.fit_transform(data[mean_impute_columns])"
      ],
      "metadata": {
        "id": "GnDtSPmjdHqB"
      },
      "execution_count": 48,
      "outputs": []
    },
    {
      "cell_type": "markdown",
      "source": [
        "## **Median Imputation**"
      ],
      "metadata": {
        "id": "lIrUDsEl7Mi5"
      }
    },
    {
      "cell_type": "markdown",
      "source": [
        "Imputasi dilakukan pada kolom 'Glucose' dan 'SkinThickness' menggunakan nilai median."
      ],
      "metadata": {
        "id": "rcaqXZup8lsd"
      }
    },
    {
      "cell_type": "code",
      "source": [
        "# imputasi missing values dengan median\n",
        "median_impute_columns = ['Glucose', 'SkinThickness']\n",
        "imputer_median = SimpleImputer(strategy='median')\n",
        "data[median_impute_columns] = imputer_median.fit_transform(data[median_impute_columns])"
      ],
      "metadata": {
        "id": "hN51GpjZ3fRv"
      },
      "execution_count": 49,
      "outputs": []
    },
    {
      "cell_type": "markdown",
      "source": [
        "## **Mode Imputation**"
      ],
      "metadata": {
        "id": "6w7TCwJi7QzI"
      }
    },
    {
      "cell_type": "markdown",
      "source": [
        "Imputasi dilakukan pada kolom 'Pregnancies' dan 'DiabetesPedigreeFunction' menggunakan nilai modus."
      ],
      "metadata": {
        "id": "ntELt_yR8rer"
      }
    },
    {
      "cell_type": "code",
      "source": [
        "# imputasi missing values dengan mode (modus)\n",
        "mode_impute_columns = ['Pregnancies', 'DiabetesPedigreeFunction']\n",
        "imputer_mode = SimpleImputer(strategy='most_frequent')\n",
        "data[mode_impute_columns] = imputer_mode.fit_transform(data[mode_impute_columns])"
      ],
      "metadata": {
        "id": "lKHssYEI7UY1"
      },
      "execution_count": 50,
      "outputs": []
    },
    {
      "cell_type": "markdown",
      "source": [
        "## **Cek Missing Value setelah Imputasi**"
      ],
      "metadata": {
        "id": "Y-p-2k3N7WnS"
      }
    },
    {
      "cell_type": "code",
      "source": [
        "# cek missing values setelah imputasi\n",
        "print(\"Missing values after imputation:\\n\", data.isnull().sum())"
      ],
      "metadata": {
        "colab": {
          "base_uri": "https://localhost:8080/"
        },
        "id": "hLOTsOft7atV",
        "outputId": "90c9d57e-04c6-41e0-c608-7a99602423d5"
      },
      "execution_count": 51,
      "outputs": [
        {
          "output_type": "stream",
          "name": "stdout",
          "text": [
            "Missing values after imputation:\n",
            " Pregnancies                 0\n",
            "Glucose                     0\n",
            "BloodPressure               0\n",
            "SkinThickness               0\n",
            "Insulin                     0\n",
            "BMI                         0\n",
            "DiabetesPedigreeFunction    0\n",
            "Age                         0\n",
            "Outcome                     0\n",
            "dtype: int64\n"
          ]
        }
      ]
    },
    {
      "cell_type": "markdown",
      "source": [
        "Dengan demikian, sudah tidak ada missing value atau bisa dikatakan bahwa missing value sudah diatasi menggunakan statisthical imputation yaitu dengan imputasi mean, median, dan modus."
      ],
      "metadata": {
        "id": "XN83QeXn7e3e"
      }
    },
    {
      "cell_type": "markdown",
      "source": [
        "# **SOAL 2: CEK KORELASI ANTAR VARIABEL DENGAN HEATMAP**"
      ],
      "metadata": {
        "id": "V_FDPRWY-7L6"
      }
    },
    {
      "cell_type": "code",
      "source": [
        "# hitung korelasi antar variabel\n",
        "correlation_matrix = data.corr()\n",
        "\n",
        "# visualisasi heatmap\n",
        "plt.figure(figsize=(10,8))\n",
        "sns.heatmap(correlation_matrix, annot=True, cmap='coolwarm', linewidths=0.5)\n",
        "plt.title(\"Heatmap Korelasi Antar Variabel Dataset Diabetes\")\n",
        "plt.show()"
      ],
      "metadata": {
        "colab": {
          "base_uri": "https://localhost:8080/",
          "height": 866
        },
        "outputId": "bd26a6bf-5086-4ef1-d6e9-fd0cf942b619",
        "id": "N7q_G1xm55TU"
      },
      "execution_count": 52,
      "outputs": [
        {
          "output_type": "display_data",
          "data": {
            "text/plain": [
              "<Figure size 1000x800 with 2 Axes>"
            ],
            "image/png": "[encoded data removed]"
          },
          "metadata": {}
        }
      ]
    },
    {
      "cell_type": "markdown",
      "source": [
        "Untuk mengetahui dua hubungan atau lebih pada variabel di dataset maka kami menggunakan Heatmap korelasi. Dengan keterangan sebagai berikut :\n",
        "\n",
        "- Sumbu X dan Sumbu Y menampilkan nama-nama variabel pada dataset.\n",
        "- Skala disebelah kanan heatmap menunjukkan intensitas korelasi dimana -1 (korelasi negatif sempurna) dan +1 (korelasi positif sempurna).\n",
        "\n",
        "- Warna :\n",
        "\n",
        "  1. Merah : korelasi positif (Jika satu variabel meningkat maka variabel lainnya ikut meningkat).\n",
        "  2. Biru : korelasi negatif. (Jika satu variabel meningkat, maka variabel lainnya cenderung menurun).\n",
        "  3. Putih : tidak terdapat korelasi/ korelasi sangat lemah.\n",
        "  \n",
        "  Semakin gelap warna maka semakin kuat korelasinya.\n",
        "\n",
        "- **Korelasi Negatif (Nilai mendekati -1):**\n",
        "\n",
        "  a. Lemah\n",
        "  1. Pregnancies dengan SkinThickness (-0.091).\n",
        "  2. Pregnancies dengan Insulin (-0.06).\n",
        "  3. Pregnancies dengan DiabetesPedigreeFunction (-0.021).\n",
        "  4. BloodPressure dengan DiabetesPedigreeFunction (-0.0087).\n",
        "  5. SkinThickness dengan Age (-0.12).\n",
        "  6. Insulin dengan Age (-0.074)\n",
        "  7. Dst.\n",
        "     \n",
        "- **Korelasi Positif (Nilai mendekati 1)**\n",
        "\n",
        "  a. Kuat\n",
        "  1. Pregnancies dengan Age (0.44).\n",
        "  2. Glucose dengan Outcome (0.41).\n",
        "  3. BMI dengan Outcome (0.27).\n",
        "  4. Dst.\n",
        "\n",
        "Meskipun Heatmap didominasi oleh variabel dengan korelasi negatif tetapi variabel dengan korelasi positif cenderung lebih kuat. Terutama antar variabel yang sama dimana memiliki tingkat korelasi sebesar 1.\n"
      ],
      "metadata": {
        "id": "sL97HFimJr_X"
      }
    },
    {
      "cell_type": "markdown",
      "source": [
        "# **SOAL 3: LAKUKAN IMBALANCE HANDLING DENGAN UNDERSAMPLING**"
      ],
      "metadata": {
        "id": "gXIQ2C0R_aiT"
      }
    },
    {
      "cell_type": "markdown",
      "source": [
        "Undersampling adalah teknik untuk menyeimbangkan kumpulan data yang tidak seimbang (imbalanced data) dengan mempertahankan semua data dalam kelas minoritas dan mengurangi ukuran data sehingga jumlahnya nanti akan sama seperti kelas minoritas."
      ],
      "metadata": {
        "id": "HC9Jkgq_IrkF"
      }
    },
    {
      "cell_type": "code",
      "source": [
        "# lakukan imbalance handling\n",
        "X, y = make_classification(n_samples=1000, n_features=20, n_classes=3, n_clusters_per_class=1, weights=[0.1, 0.3, 0.6], random_state=42)\n",
        "\n",
        "# split dataset ke training and testing\n",
        "X_train, X_test, y_train, y_test = train_test_split(X, y, test_size=0.2, random_state=42)\n",
        "\n",
        "# lakukan undersampling\n",
        "undersampler = RandomUnderSampler(sampling_strategy='auto', random_state=42)\n",
        "X_resampled, y_resampled = undersampler.fit_resample(X_train, y_train)\n",
        "\n",
        "# tampilkan distribusi kelas sebelum undersampling\n",
        "print(\"Data sebelum Undersampling:\")\n",
        "print(\"Class 0:\", len(y_train[y_train == 0]))\n",
        "print(\"Class 1:\", len(y_train[y_train == 1]))\n",
        "print(\"Class 2:\", len(y_train[y_train == 2]))\n",
        "print()\n",
        "\n",
        "# tampilkan distribusi kelas setelah undersampling\n",
        "print(\"Data setelah Undersampling:\")\n",
        "print(\"Class 0:\", len(y_resampled[y_resampled == 0]))\n",
        "print(\"Class 1:\", len(y_resampled[y_resampled == 1]))\n",
        "print(\"Class 2:\", len(y_resampled[y_resampled == 2]))"
      ],
      "metadata": {
        "colab": {
          "base_uri": "https://localhost:8080/"
        },
        "id": "Bhb2VCLE_3QH",
        "outputId": "0ea43f34-ba0a-45d1-de83-de326a701a0c"
      },
      "execution_count": 53,
      "outputs": [
        {
          "output_type": "stream",
          "name": "stdout",
          "text": [
            "Data sebelum Undersampling:\n",
            "Class 0: 80\n",
            "Class 1: 246\n",
            "Class 2: 474\n",
            "\n",
            "Data setelah Undersampling:\n",
            "Class 0: 80\n",
            "Class 1: 80\n",
            "Class 2: 80\n"
          ]
        }
      ]
    },
    {
      "cell_type": "markdown",
      "source": [
        "Pada output tersebut, terlihat bahwa datanya imbalance (imbalanced data) karena pada Class 0 terdapat 80 data, Class 1 terdapat 246 data, dan Class 2 terdapat 474 data dimana masing-masing Class memiliki perbedaan jumlah data. Untuk membuat jumlah data ketiga Class sama, maka dilakukan undersampling yaitu mengurangi sampling sehingga jumlahnya sama seperti jumlah yang terkecil yaitu 80. Undersampling dilakukan menggunakan library from imblearn.under_sampling import RandomUnderSampler. Dengan demikian, jumlah masing-masing Class setelah undersampling sudah sama yaitu sebanyak 80."
      ],
      "metadata": {
        "id": "Cf55P9DoDV1Y"
      }
    },
    {
      "cell_type": "markdown",
      "source": [
        "# **SOAL 4: LAKUKAN SCALING DENGAN ROBUST SCALER DAN MINMAX**"
      ],
      "metadata": {
        "id": "Ok6hqt2pD7y2"
      }
    },
    {
      "cell_type": "markdown",
      "source": [
        "Scaling merupakan proses mengubah rentang nilai suatu dataset sehingga tidak ada suatu fitur yang mendominasi. Hal ini diperlukan apabila algoritma sensitif terhadap skala data. Selain itu, interpretasi juga lebih mudah apabila ada scaling."
      ],
      "metadata": {
        "id": "VvThB6H9Mhra"
      }
    },
    {
      "cell_type": "markdown",
      "source": [
        "## **Robust Scaler**"
      ],
      "metadata": {
        "id": "7h8CpElLLy6e"
      }
    },
    {
      "cell_type": "markdown",
      "source": [
        "Robust scaler digunakan untuk data yang memiliki outliers dan belum ditangani. Robust Scaler akan menggunakan kuartil untuk menentukan rentang interkuartil (IQR). Jika banyak outliersnya, maka robust scaler lebih baik daripada min-max scaler."
      ],
      "metadata": {
        "id": "oIjiQ-6ML2B4"
      }
    },
    {
      "cell_type": "code",
      "source": [
        "# Robust Scaler\n",
        "robust_scaler = RobustScaler()\n",
        "data_robust_scaled = robust_scaler.fit_transform(data)\n",
        "\n",
        "# convert hasil scaling kembali ke dataframe\n",
        "data_robust_scaled_df = pd.DataFrame(data_robust_scaled, columns=data.columns)\n",
        "\n",
        "# tampilkan hasil scaling dengan robust scaler\n",
        "print(\"Data setelah Robust Scaling:\")\n",
        "print(data_robust_scaled_df)"
      ],
      "metadata": {
        "colab": {
          "base_uri": "https://localhost:8080/"
        },
        "id": "3tOJoTQaC8rN",
        "outputId": "cf133d23-e5f3-4dc6-db26-0a034686e71c"
      },
      "execution_count": 54,
      "outputs": [
        {
          "output_type": "stream",
          "name": "stdout",
          "text": [
            "Data setelah Robust Scaling:\n",
            "     Pregnancies   Glucose  BloodPressure  SkinThickness   Insulin       BMI  \\\n",
            "0       0.549204  0.000000       0.233901        0.40625 -0.831119  0.000000   \n",
            "1      -0.700796 -1.099612      -0.227637        0.21875 -0.831119  0.000000   \n",
            "2       1.049204  1.939148      -0.381483       -0.68750 -0.831119 -1.879715   \n",
            "3      -0.700796 -0.975581      -0.227637        0.03125  0.185098 -0.841877   \n",
            "4      -0.950796  0.000000      -2.227637        0.40625  0.985098  2.401366   \n",
            "..           ...       ...            ...            ...       ...       ...   \n",
            "763     1.549204 -0.603488       0.541594        0.81250  1.114827  0.195961   \n",
            "764    -0.450796  0.047675       0.080055        0.15625 -0.831119  1.039204   \n",
            "765     0.299204  0.016667       0.233901        0.03125  0.000000 -1.252688   \n",
            "766    -0.700796  0.171706      -0.689176       -0.68750 -0.831119 -0.409444   \n",
            "767    -0.700796 -0.851550       0.000000        0.28125 -0.831119 -0.344580   \n",
            "\n",
            "     DiabetesPedigreeFunction       Age  Outcome  \n",
            "0                    0.951679  0.000000      1.0  \n",
            "1                    0.047502 -0.180510      0.0  \n",
            "2                    1.099099 -0.097177      1.0  \n",
            "3                   -0.555283 -1.013844      0.0  \n",
            "4                    0.052480 -0.013844      1.0  \n",
            "..                        ...       ...      ...  \n",
            "763                 -0.542179  0.000000      0.0  \n",
            "764                 -1.101261 -0.513844      0.0  \n",
            "765                 -0.299754 -0.263844      0.0  \n",
            "766                  0.052480  1.152823      1.0  \n",
            "767                 -0.070434 -0.847177      0.0  \n",
            "\n",
            "[768 rows x 9 columns]\n"
          ]
        }
      ]
    },
    {
      "cell_type": "markdown",
      "source": [
        "## **Min-Max Scaler**"
      ],
      "metadata": {
        "id": "9eL1AAsvNFsj"
      }
    },
    {
      "cell_type": "markdown",
      "source": [
        "Min-Max scaler digunakan untuk data yang outliersnya biasanya sudah ditangani. Scaling yang dilakukan biasanya sudah memiliki rentang tertentu sehingga belum tentu menggunakan kuartil. Biasanya juga menggunakan nilai minimum dan maksimum dari fitur. Min-Max cocok digunakan untuk data yang tidak terlalu banyak outliers atau data yang outliersnya tidak signifikan."
      ],
      "metadata": {
        "id": "WnV06o3bNIW-"
      }
    },
    {
      "cell_type": "code",
      "source": [
        "# Min-Max Scaler\n",
        "min_max_scaler = MinMaxScaler()\n",
        "data_min_max_scaled = min_max_scaler.fit_transform(data)\n",
        "\n",
        "# convert hasil scaling kembali ke dataframe\n",
        "data_min_max_scaled_df = pd.DataFrame(data_min_max_scaled, columns=data.columns)\n",
        "\n",
        "# tampilkan hasil scaling dengan Min-Max\n",
        "print(\"\\nData setelah Min-Max Scaling:\")\n",
        "print(data_min_max_scaled_df)"
      ],
      "metadata": {
        "colab": {
          "base_uri": "https://localhost:8080/"
        },
        "id": "95KRAH_ZGePp",
        "outputId": "03fd83ec-08e6-47e9-d0c6-639b11863a9f"
      },
      "execution_count": 55,
      "outputs": [
        {
          "output_type": "stream",
          "name": "stdout",
          "text": [
            "\n",
            "Data setelah Min-Max Scaling:\n",
            "     Pregnancies   Glucose  BloodPressure  SkinThickness   Insulin       BMI  \\\n",
            "0       0.352941  0.605339       0.631579       0.353535  0.000000  0.476806   \n",
            "1       0.058824  0.427136       0.578947       0.292929  0.000000  0.476806   \n",
            "2       0.470588  0.919598       0.561404       0.000000  0.000000  0.347243   \n",
            "3       0.058824  0.447236       0.578947       0.232323  0.138235  0.418778   \n",
            "4       0.000000  0.605339       0.350877       0.353535  0.247059  0.642325   \n",
            "..           ...       ...            ...            ...       ...       ...   \n",
            "763     0.588235  0.507538       0.666667       0.484848  0.264706  0.490313   \n",
            "764     0.117647  0.613065       0.614035       0.272727  0.000000  0.548435   \n",
            "765     0.294118  0.608040       0.631579       0.232323  0.113057  0.390462   \n",
            "766     0.058824  0.633166       0.526316       0.000000  0.000000  0.448584   \n",
            "767     0.058824  0.467337       0.604906       0.313131  0.000000  0.453055   \n",
            "\n",
            "     DiabetesPedigreeFunction       Age  Outcome  \n",
            "0                    0.628849  0.202769      1.0  \n",
            "1                    0.351991  0.166667      0.0  \n",
            "2                    0.673989  0.183333      1.0  \n",
            "3                    0.167419  0.000000      0.0  \n",
            "4                    0.353516  0.200000      1.0  \n",
            "..                        ...       ...      ...  \n",
            "763                  0.171431  0.202769      0.0  \n",
            "764                  0.000241  0.100000      0.0  \n",
            "765                  0.245662  0.150000      0.0  \n",
            "766                  0.353516  0.433333      1.0  \n",
            "767                  0.315879  0.033333      0.0  \n",
            "\n",
            "[768 rows x 9 columns]\n"
          ]
        }
      ]
    },
    {
      "cell_type": "markdown",
      "source": [
        "Melalui output kedua scaler di atas, kita dapat membandingkan pada masing-masing sel memiliki nilai tertinggi pada scaler yang mana. Terlihat bahwa pada Robust Scaler lebih banyak terdapat nilai - (negatif). Sedangkan pada Min-Max Scaler tidak memiliki nilai negatif. Dengan demikian, dapat diketahui bahwa sebagian besar nilai scaling tertingginya ada pada Min-Max Scaling, salah satunya pada variable atau kolom Age."
      ],
      "metadata": {
        "id": "TLDj8Yb2N7rO"
      }
    }
  ]
}